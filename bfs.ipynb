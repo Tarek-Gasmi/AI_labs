{
 "cells": [
  {
   "cell_type": "markdown",
   "metadata": {},
   "source": [
    "How to implement a ​breadth-first search in Python\n",
    "=================================================="
   ]
  },
  {
   "cell_type": "markdown",
   "metadata": {},
   "source": [
    "Breath-first search (BFS) is an algorithm used for tree traversal on graphs or tree data structures. BFS can be easily implemented using recursion and data structures like dictionaries and lists.\n",
    "\n",
    "### The Algorithm\n",
    "\n",
    "1.  Pick any node, visit the adjacent unvisited vertex, mark it as visited, display it, and insert it in a queue.\n",
    "2.  If there are no remaining adjacent vertices left, remove the first vertex from the queue.\n",
    "3.  Repeat step 1 and step 2 until the queue is empty or the desired node is found.\n",
    "\n",
    "### Implementation\n",
    "\n",
    "Consider the​ graph, which ​is implemented in the code below:\n",
    "\n",
    "![svg viewer](https://www.educative.io/api/edpresso/shot/4915476100546560/image/5205102925185024)"
   ]
  },
  {
   "cell_type": "code",
   "execution_count": null,
   "metadata": {},
   "outputs": [],
   "source": [
    "graph = {\n",
    "  'A' : ['B','C'],\n",
    "  'B' : ['D', 'E'],\n",
    "  'C' : ['F'],\n",
    "  'D' : [],\n",
    "  'E' : ['F'],\n",
    "  'F' : []\n",
    "}\n",
    "\n",
    "visited = [] # List to keep track of visited nodes.\n",
    "queue = []     #Initialize a queue\n",
    "\n",
    "def bfs(visited, graph, node):\n",
    "  visited.append(node)\n",
    "  queue.append(node)\n",
    "\n",
    "  while queue:\n",
    "    s = queue.pop(0) \n",
    "    print (s, end = \" \") \n",
    "\n",
    "    for neighbour in graph[s]:\n",
    "      if neighbour not in visited:\n",
    "        visited.append(neighbour)\n",
    "        queue.append(neighbour)\n",
    "\n",
    "# Driver Code\n",
    "bfs(visited, graph, 'A')"
   ]
  },
  {
   "cell_type": "markdown",
   "metadata": {},
   "source": [
    "### Explanation\n",
    "\n",
    "-   Lines 3-10: The illustrated graph is represented using an *adjacency list*. An easy way to do this in Python is to use a *dictionary data structure*, where each vertex has a stored list of its adjacent nodes.\n",
    "\n",
    "-   Line 12: `visited` is a list that is used to keep track of visited nodes.\n",
    "\n",
    "-   Line 13: `queue` is a list that is used to keep track of nodes currently in the queue.\n",
    "\n",
    "-   Line 29: The arguments of the `bfs` function are the `visited` list, the `graph` in the form of a dictionary, and the starting node `A`.\n",
    "\n",
    "-   Lines 15-26: `bfs` follows the algorithm described above:\n",
    "\n",
    "    1.  It checks and appends the starting node to the `visited` list and the `queue`.\n",
    "    2.  Then, while the queue contains elements, it keeps taking out nodes from the queue, appends the neighbors of that node to the queue if they are unvisited, and marks them as visited.\n",
    "    3.  This continues until the queue is empty."
   ]
  },
  {
   "cell_type": "code",
   "execution_count": null,
   "metadata": {},
   "outputs": [],
   "source": []
  }
 ],
 "metadata": {
  "kernelspec": {
   "display_name": "Python 3",
   "language": "python",
   "name": "python3"
  },
  "language_info": {
   "codemirror_mode": {
    "name": "ipython",
    "version": 3
   },
   "file_extension": ".py",
   "mimetype": "text/x-python",
   "name": "python",
   "nbconvert_exporter": "python",
   "pygments_lexer": "ipython3",
   "version": "3.6.9"
  }
 },
 "nbformat": 4,
 "nbformat_minor": 4
}
