{
 "cells": [
  {
   "cell_type": "markdown",
   "metadata": {},
   "source": [
    "How to implement depth-first search in Python\n",
    "============================================="
   ]
  },
  {
   "cell_type": "markdown",
   "metadata": {},
   "source": [
    "[Depth-first search](https://www.educative.io/edpresso/what-is-depth-first-search) (DFS), is an algorithm for tree traversal on graph or tree data structures. It can be implemented easily using recursion and data structures like dictionaries and sets.\n",
    "\n",
    "The Algorithm\n",
    "-------------\n",
    "\n",
    "1.  Pick any node. If it is unvisited, mark it as visited and recur on all its adjacent nodes.\n",
    "2.  Repeat until all the nodes are visited, or the node to be searched is found.\n",
    "\n",
    "Implementation\n",
    "--------------\n",
    "\n",
    "Consider this graph, implemented in the code below:\n",
    "\n",
    "![svg viewer](https://www.educative.io/api/edpresso/shot/5410617873661952/image/6437799702036480)"
   ]
  },
  {
   "cell_type": "code",
   "execution_count": null,
   "metadata": {},
   "outputs": [],
   "source": [
    "# Using a Python dictionary to act as an adjacency list\n",
    "graph = {\n",
    "    'A' : ['B','C'],\n",
    "    'B' : ['D', 'E'],\n",
    "    'C' : ['F'],\n",
    "    'D' : [],\n",
    "    'E' : ['F'],\n",
    "    'F' : []\n",
    "}\n",
    "\n",
    "visited = set() # Set to keep track of visited nodes.\n",
    "\n",
    "def dfs(visited, graph, node):\n",
    "    if node not in visited:\n",
    "        print (node)\n",
    "        visited.add(node)\n",
    "        for neighbour in graph[node]:\n",
    "            dfs(visited, graph, neighbour)\n",
    "\n",
    "# Driver Code\n",
    "dfs(visited, graph, 'A')"
   ]
  },
  {
   "cell_type": "markdown",
   "metadata": {},
   "source": [
    "Explanation\n",
    "-----------\n",
    "\n",
    "-   Lines 2-9: The illustrated graph is represented using an adjacency list - an easy way to do it in Python is to use a *dictionary* data structure. Each vertex has a list of its adjacent nodes stored.\n",
    "-   Line 11: `visited` is a set that is used to keep track of visited nodes.\n",
    "-   Line 21: The `dfs` function is called and is passed the `visited` set, the `graph` in the form of a dictionary, and `A`, which is the starting node.\n",
    "-   Lines 13-18: `dfs` follows the algorithm described above:\n",
    "    1.  It first checks if the current node is unvisited - if yes, it is appended in the `visited` set.\n",
    "    2.  Then for each neighbor of the current node, the `dfs` function is invoked again.\n",
    "    3.  The base case is invoked when all the nodes are visited. The function then returns."
   ]
  },
  {
   "cell_type": "markdown",
   "metadata": {},
   "source": [
    "> How Depth-First Search Works?\n",
    "\n",
    "In this section, we will see visually the workflow of a depth-first search. Here is a graph and the source node is shown as the node u.\n",
    "\n",
    "![Image for post](https://miro.medium.com/max/368/0*IB272sYawzRdBnLn.png)"
   ]
  },
  {
   "cell_type": "code",
   "execution_count": null,
   "metadata": {},
   "outputs": [],
   "source": [
    "g = {\n",
    "    'u': ['v', 'x'],\n",
    "    'v': ['y'],\n",
    "    'y': ['x'],\n",
    "    'x': ['v'],\n",
    "    'w': ['y', 'z'],\n",
    "    'z': ['z']\n",
    "    }"
   ]
  },
  {
   "cell_type": "markdown",
   "metadata": {},
   "source": [
    "To keep track of the visited nodes, we will start with an empty list."
   ]
  },
  {
   "cell_type": "code",
   "execution_count": null,
   "metadata": {},
   "outputs": [],
   "source": [
    "class depth_first:\n",
    "    def __init__(self):\n",
    "        self.visited = []"
   ]
  },
  {
   "cell_type": "markdown",
   "metadata": {},
   "source": [
    "Now define a function that will loop through all the nodes and if there is an unvisited node, we will go in that node and find out where this node takes us."
   ]
  },
  {
   "cell_type": "code",
   "execution_count": null,
   "metadata": {},
   "outputs": [],
   "source": [
    "def dfs(self, graph):        \n",
    "    for ver in graph:\n",
    "        if ver not in self.visited:\n",
    "            self.dfs_visit(graph, ver)\n",
    "    return self.visited"
   ]
  },
  {
   "cell_type": "markdown",
   "metadata": {},
   "source": [
    "Notice, in this function, we called a function 'dfs_visit'. This function is supposed to travel a whole unvisited route offered by an unvisited node and add those unvisited nodes to the 'visited' list. We will implement this function recursively.\n",
    "\n",
    "Here is the 'dfs_visit' function:"
   ]
  },
  {
   "cell_type": "code",
   "execution_count": null,
   "metadata": {},
   "outputs": [],
   "source": [
    "def dfs_visit(self, graph, vertex):\n",
    "    if vertex not in self.visited:\n",
    "        self.visited.append(vertex)\n",
    "        for nb in g[vertex]:\n",
    "            self.dfs_visit(g, nb)"
   ]
  },
  {
   "cell_type": "markdown",
   "metadata": {},
   "source": [
    "Have a careful look! This function will add a node if it is not already in the 'visited' list. Then it will go to one node adjacent to it and call itself.\n",
    "\n",
    "That way, it will traverse the whole route that was unvisited before and one at a time.\n",
    "\n",
    "Here is the complete code:"
   ]
  },
  {
   "cell_type": "code",
   "execution_count": null,
   "metadata": {},
   "outputs": [],
   "source": [
    "class depth_first:\n",
    "    def __init__(self):\n",
    "        self.visited = []    \n",
    "        \n",
    "    def dfs(self, graph):\n",
    "        for ver in graph:\n",
    "            if ver not in self.visited:\n",
    "                self.dfs_visit(graph, ver)\n",
    "        return self.visited\n",
    "    \n",
    "    def dfs_visit(self, graph, vertex):\n",
    "        if vertex not in self.visited:\n",
    "            self.visited.append(vertex)\n",
    "            for nb in g[vertex]:\n",
    "                self.dfs_visit(g, nb)"
   ]
  },
  {
   "cell_type": "code",
   "execution_count": null,
   "metadata": {},
   "outputs": [],
   "source": [
    "d = depth_first()\n",
    "print(d.dfs(g))"
   ]
  },
  {
   "cell_type": "code",
   "execution_count": null,
   "metadata": {},
   "outputs": [],
   "source": []
  }
 ],
 "metadata": {
  "kernelspec": {
   "display_name": "Python 3",
   "language": "python",
   "name": "python3"
  },
  "language_info": {
   "codemirror_mode": {
    "name": "ipython",
    "version": 3
   },
   "file_extension": ".py",
   "mimetype": "text/x-python",
   "name": "python",
   "nbconvert_exporter": "python",
   "pygments_lexer": "ipython3",
   "version": "3.6.9"
  }
 },
 "nbformat": 4,
 "nbformat_minor": 4
}
